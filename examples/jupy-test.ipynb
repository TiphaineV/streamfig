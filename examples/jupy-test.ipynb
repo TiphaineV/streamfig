{
 "cells": [
  {
   "cell_type": "code",
   "execution_count": 495,
   "metadata": {},
   "outputs": [
    {
     "name": "stdout",
     "output_type": "stream",
     "text": [
      "The autoreload extension is already loaded. To reload it, use:\n",
      "  %reload_ext autoreload\n"
     ]
    }
   ],
   "source": [
    "%load_ext autoreload\n",
    "%autoreload 2\n",
    "import importlib\n",
    "import Drawing\n",
    "importlib.reload(Drawing)\n",
    "from Drawing import *"
   ]
  },
  {
   "cell_type": "code",
   "execution_count": 385,
   "metadata": {},
   "outputs": [],
   "source": [
    "import sys\n",
    "\n",
    "import os\n",
    "import tempfile\n",
    "\n",
    "def drawFig(fig, name='output', colors='byLayer', show=False, ordonne=False):\n",
    "    #dir = 'outputs'\n",
    "    #figfile = f'{dir}/{name}.fig'\n",
    "    figfile = f'{name}.fig'\n",
    "    \n",
    "    with open(figfile, 'w') as f:\n",
    "        f.write(fig.getFigStream())\n",
    "        #f.write(fig.fig_stream)\n",
    "\n",
    "    #with open(os.devnull, 'w') as devnull:\n",
    "        #stdout = sys.stdout; sys.stdout = devnull\n",
    "        #fig()\n",
    "        #ms.drawMS(figfile, colors=colors, neglect=-1, ordonne=ordonne, colL={})\n",
    "        #sys.stdout = fig\n",
    "\n",
    "    #os.system(f'fig2dev -Lpng {figfile} {dir}/{name}.png')\n",
    "    #os.system(f'fig2dev -Lpdf {figfile} {dir}/{name}.pdf')\n",
    "\n",
    "    os.system(f'fig2dev -Lpng {figfile} {name}.png')\n",
    "    os.system(f'fig2dev -Lpdf {figfile} {name}.pdf')\n",
    "    \n",
    "    from IPython.display import display, Image, FileLink\n",
    "    if show:\n",
    "        #png = f'{dir}/{name}.png'\n",
    "        png = f'{name}.png'\n",
    "        display(Image(png))\n",
    "        display(FileLink(png))\n",
    "\n"
   ]
  },
  {
   "cell_type": "code",
   "execution_count": 386,
   "metadata": {},
   "outputs": [],
   "source": [
    "def f0_node_and_time():\n",
    "    sg = Drawing(alpha=0, omega=10)\n",
    "\n",
    "    sg.addNode(\"u\")\n",
    "    sg.addNode(\"v\")\n",
    "    '''\n",
    "\n",
    "    sg.addNode(\"w\")\n",
    "\n",
    "    sg.addLink(\"u\", \"v\", 1, 2)\n",
    "    sg.addLink(\"v\", \"w\", 2, 3)\n",
    "    '''\n",
    "\n",
    "    #sg.addPath(((2,\"u\",\"v\"), (2,\"v\",\"w\")), 2, 2, color=11, width=6)\n",
    "\n",
    "    sg.addTimeLine()\n",
    "    return sg"
   ]
  },
  {
   "cell_type": "code",
   "execution_count": 387,
   "metadata": {},
   "outputs": [
    {
     "name": "stdout",
     "output_type": "stream",
     "text": [
      "\n"
     ]
    },
    {
     "data": {
      "image/png": "[encoded data removed]",
      "text/plain": [
       "<IPython.core.display.Image object>"
      ]
     },
     "metadata": {},
     "output_type": "display_data"
    },
    {
     "data": {
      "text/html": [
       "<a href='f0_node_and_time.png' target='_blank'>f0_node_and_time.png</a><br>"
      ],
      "text/plain": [
       "/work/streamfig/examples/f0_node_and_time.png"
      ]
     },
     "metadata": {},
     "output_type": "display_data"
    }
   ],
   "source": [
    "fig = f0_node_and_time()\n",
    "print()\n",
    "#drawFig(fig.getFigStream(), name='monkey', show=True)\n",
    "drawFig(fig, name='f0_node_and_time', show=True)"
   ]
  },
  {
   "cell_type": "code",
   "execution_count": 388,
   "metadata": {},
   "outputs": [
    {
     "data": {
      "image/png": "[encoded data removed]",
      "text/plain": [
       "<IPython.core.display.Image object>"
      ]
     },
     "metadata": {},
     "output_type": "display_data"
    },
    {
     "data": {
      "text/html": [
       "<a href='f1_node_over_time.png' target='_blank'>f1_node_over_time.png</a><br>"
      ],
      "text/plain": [
       "/work/streamfig/examples/f1_node_over_time.png"
      ]
     },
     "metadata": {},
     "output_type": "display_data"
    }
   ],
   "source": [
    "def f1_node_over_time():\n",
    "    sg = Drawing(alpha=0, omega=10)\n",
    "\n",
    "    sg.addNode(\"u\", [(0,6)])\n",
    "    sg.addNode(\"v\", [(4,10)])\n",
    "    #sg.addPath(((2,\"u\",\"v\"), (2,\"v\",\"w\")), 2, 2, color=11, width=6)\n",
    "\n",
    "    sg.addTimeLine()\n",
    "    return sg\n",
    "fig = f1_node_over_time()\n",
    "drawFig(fig, name='f1_node_over_time', show=True)    "
   ]
  },
  {
   "cell_type": "code",
   "execution_count": 615,
   "metadata": {},
   "outputs": [
    {
     "data": {
      "image/png": "[encoded data removed]",
      "text/plain": [
       "<IPython.core.display.Image object>"
      ]
     },
     "metadata": {},
     "output_type": "display_data"
    },
    {
     "data": {
      "text/html": [
       "<a href='f2_link_over_time.png' target='_blank'>f2_link_over_time.png</a><br>"
      ],
      "text/plain": [
       "/work/streamfig/examples/f2_link_over_time.png"
      ]
     },
     "metadata": {},
     "output_type": "display_data"
    }
   ],
   "source": [
    "def f2_link_over_time():\n",
    "    sg = Drawing(alpha=0, omega=10)\n",
    "\n",
    "    sg.addNode(\"u\", [(1,9)])\n",
    "    sg.addNode(\"v\", [(0,3),(5,9)])\n",
    "    #sg.addPath(((2,\"u\",\"v\"), (2,\"v\",\"w\")), 2, 2, color=11, width=6)\n",
    "    sg.addLink(\"u\", \"v\", 2, 2, curving = 0)\n",
    "    sg.addLink(\"u\", \"v\", 6, 8, height = 0.5)\n",
    "    sg.addLink(\"u\", \"u\", 3, 5, color = 11, loop_size = 5)\n",
    "    #sg.addLink(\"v\", \"v\", 1, 1, height = 0.5)\n",
    "    \n",
    "    '''\n",
    "    sg.fig_stream +='3 0 2 '+str(3)+' '+str(11)+' 0 10 0 -1 0 0 0 0 '+str(4)+'\\n'\n",
    "    ux = 4950\n",
    "    uy = 3450\n",
    "    loop_size = 3\n",
    "    loop_size *= 100\n",
    "    sg.fig_stream += str(ux)+\" \"+str(uy)+\" \"\n",
    "    sg.fig_stream += str(ux+int(loop_size/2))+\" \"+str(uy+int(loop_size/3))+\" \"\n",
    "    sg.fig_stream += str(ux+int(loop_size/2))+\" \"+str(uy-int(loop_size/3))+\" \"\n",
    "    sg.fig_stream += str(ux)+\" \"+str(uy)\n",
    "    sg.fig_stream += \"\\n\"\n",
    "    sg.fig_stream += \"1 -1 -1 -1 -1 1\\n\"\n",
    "    '''\n",
    "\n",
    "\n",
    "    sg.addTimeLine()\n",
    "    return sg\n",
    "fig = f2_link_over_time()\n",
    "drawFig(fig, name='f2_link_over_time', show=True)   "
   ]
  },
  {
   "cell_type": "code",
   "execution_count": 734,
   "metadata": {},
   "outputs": [
    {
     "name": "stdout",
     "output_type": "stream",
     "text": [
      "TODO: left align for histogram\n"
     ]
    },
    {
     "data": {
      "image/png": "[encoded data removed]",
      "text/plain": [
       "<IPython.core.display.Image object>"
      ]
     },
     "metadata": {},
     "output_type": "display_data"
    },
    {
     "data": {
      "text/html": [
       "<a href='f3_node_weight.png' target='_blank'>f3_node_weight.png</a><br>"
      ],
      "text/plain": [
       "/work/streamfig/examples/f3_node_weight.png"
      ]
     },
     "metadata": {},
     "output_type": "display_data"
    }
   ],
   "source": [
    "def f3_node_weight():\n",
    "    sg = Drawing(alpha=0, omega=10)\n",
    "\n",
    "    sg.addColor(\"red\", \"#FF8080\")\n",
    "    red_list = ['#d73027','#f46d43','#fdae61','#fee090','#ffffbf','#e0f3f8','#abd9e9','#74add1','#4575b4']\n",
    "    brown_list = ['#ffffe5','#fff7bc','#fee391','#fec44f','#fe9929','#ec7014','#cc4c02','#993404','#662506']\n",
    "    color_list = ['#e41a1c','#377eb8','#4daf4a','#984ea3','#ff7f00','#ffff33','#a65628','#f781bf','#999999']\n",
    "\n",
    "    for i in range(9):\n",
    "       sg.addColor(\"red\"+str(i+1), red_list[-(i+1)])\n",
    "       sg.addColor(\"brown\"+str(i+1), brown_list[i])\n",
    "       sg.addColor(\"color\"+str(i+1), color_list[i])\n",
    "\n",
    "    sg.addNode(\"s1\", [(1,9)])\n",
    "    sg.addNode(\"s2\", [(1,9)])\n",
    "    sg.addNode(\"c1\", [(1,9)])\n",
    "    sg.addNode(\"c2\", [(1,9)])\n",
    "    sg.addNode(\"c3\", [(1,9)])\n",
    "    sg.addNode(\"z1\", [(1,9)])\n",
    "    sg.addNode(\"z2\", [(1,9)])\n",
    "    sg.addNode(\"z3\", [(1,9)])\n",
    "\n",
    "\n",
    "\n",
    "    #sg.stdout_print = True\n",
    "    sg.addNodeValue('s1', -1.5, size = 5, color=\"brown\"+str(4), glyph='rectangle')\n",
    "    sg.addNodeValue('s2', -1.5, size = 10, color=\"brown\"+str(5), glyph='circle')\n",
    "    sg.addNodeValue('c1', -1.5, size = 10, color=\"brown\"+str(6), glyph='rectangle')\n",
    "    sg.addNodeValue('c2', -1.5, size = 20, color=\"brown\"+str(7), glyph='circle')\n",
    "    sg.addNodeValue('c3', -1.5, size = 15, color=\"brown\"+str(8), glyph='rectangle')\n",
    "    sg.addNodeValue('z1', -1, size = 20, color=\"red\"+str(3), glyph='bar', bar_width=15)\n",
    "    sg.addNodeValue('z2', -1, size = 50, color=\"red\"+str(2), glyph='bar', bar_width=15)\n",
    "    sg.addNodeValue('z3', -1, size = 100, color=\"red\"+str(1), glyph='bar', bar_width=15)\n",
    "\n",
    "\n",
    "    #sg.stdout_print = False\n",
    "\n",
    "    for i in range(1, 10):\n",
    "        sg.addNodeValue('s1', i, size = i, glyph='rectangle')\n",
    "        sg.addNodeValue('s2', i, size = 2*i, glyph='circle')\n",
    "        sg.addNodeValue('c1', i, size = 10, color=\"red\"+str(i) ,glyph='rectangle')\n",
    "        sg.addNodeValue('c2', i, size = 20, color=\"brown\"+str(i), glyph='circle')\n",
    "        if i%2 == 0:\n",
    "            sg.addNodeValue('c3', i, size = 20, color=\"color\"+str(i), glyph='circle')\n",
    "        else:\n",
    "            sg.addNodeValue('c3', i, size = 10, color=\"color\"+str(i), glyph='rectangle')\n",
    "        sg.addNodeValue('z1', i, size = -6*(10-i), color=\"red\"+str(i), glyph='bar', bar_width=20)\n",
    "        sg.addNodeValue('z2', i, size = 7*(i-5), color=\"red\"+str(i), glyph='bar', bar_width=30)\n",
    "        sg.addNodeValue('z3', i, size = 6*(i), color=\"red\"+str(i), glyph='bar', bar_width=40)\n",
    "   \n",
    "    sg.addTimeLine(histogram=True, histogram_label='value')\n",
    "    return sg\n",
    "\n",
    "fig = f3_node_weight()\n",
    "drawFig(fig, name='f3_node_weight', show=True) "
   ]
  },
  {
   "cell_type": "code",
   "execution_count": 725,
   "metadata": {},
   "outputs": [
    {
     "data": {
      "image/png": "[encoded data removed]",
      "text/plain": [
       "<IPython.core.display.Image object>"
      ]
     },
     "metadata": {},
     "output_type": "display_data"
    },
    {
     "data": {
      "text/html": [
       "<a href='f4_rectangles.png' target='_blank'>f4_rectangles.png</a><br>"
      ],
      "text/plain": [
       "/work/streamfig/examples/f4_rectangles.png"
      ]
     },
     "metadata": {},
     "output_type": "display_data"
    }
   ],
   "source": [
    "def f4_rectangles():\n",
    "    sg = Drawing()\n",
    "    sg.addColor(\"red\", \"#FF8080\")\n",
    "    sg.addNode(\"a\")\n",
    "    sg.addNode(\"b\")\n",
    "    sg.addNode(\"c\")\n",
    "    sg.addNode(\"d\")\n",
    "\n",
    "    sg.addLink(\"a\", \"b\", 0, 4)\n",
    "    sg.addLink(\"a\", \"b\", 6, 9)\n",
    "    sg.addLink(\"a\", \"c\", 2, 5, height=0.4)\n",
    "    sg.addLink(\"b\", \"c\", 1, 8)\n",
    "    sg.addLink(\"b\", \"d\", 7, 10, height=0.4)\n",
    "    sg.addLink(\"c\", \"d\", 6, 9)\n",
    "\n",
    "    sg.addRectangle(\"a\",\"c\",2,4,color=11)#, depth=1150)\n",
    "    #sg.addRectangle(\"b\",\"d\",7,8,color=\"red\")\n",
    "    #sg.stdout_print = True\n",
    "    sg.addRectangle(\"b\",\"d\",7,8,color=\"red\")\n",
    "    #sg.stdout_print = False\n",
    "\n",
    "    points = [(0,-1000), (1,2), (2,3), (3, -500), (5,10), (4, 3), (10, 9), (8, 20), (8.5, 10), (8.2, 1000)]\n",
    "    \n",
    "    sg.addMeasures(points, invert_y_axis = True)\n",
    "    sg.addTimeLine(ticks=2)\n",
    "\n",
    "\n",
    "    return sg\n",
    "    \n",
    "\n",
    "fig = f4_rectangles()\n",
    "drawFig(fig, name='f4_rectangles', show=True) "
   ]
  },
  {
   "cell_type": "code",
   "execution_count": null,
   "metadata": {},
   "outputs": [],
   "source": []
  },
  {
   "cell_type": "code",
   "execution_count": null,
   "metadata": {},
   "outputs": [],
   "source": []
  }
 ],
 "metadata": {
  "kernelspec": {
   "display_name": "Python 3",
   "language": "python",
   "name": "python3"
  },
  "language_info": {
   "codemirror_mode": {
    "name": "ipython",
    "version": 3
   },
   "file_extension": ".py",
   "mimetype": "text/x-python",
   "name": "python",
   "nbconvert_exporter": "python",
   "pygments_lexer": "ipython3",
   "version": "3.7.6"
  }
 },
 "nbformat": 4,
 "nbformat_minor": 4
}
