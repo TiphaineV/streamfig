{
 "cells": [
  {
   "cell_type": "code",
   "execution_count": 1,
   "metadata": {},
   "outputs": [],
   "source": [
    "%load_ext autoreload\n",
    "%autoreload 2\n",
    "import importlib\n",
    "import Drawing\n",
    "importlib.reload(Drawing)\n",
    "from Drawing import *"
   ]
  },
  {
   "cell_type": "code",
   "execution_count": 2,
   "metadata": {},
   "outputs": [],
   "source": [
    "import sys\n",
    "\n",
    "import os\n",
    "import tempfile\n",
    "\n",
    "def drawFig(fig, name='output', show=False):\n",
    "    figfile = f'{name}.fig'\n",
    "    \n",
    "    with open(figfile, 'w') as f:\n",
    "        f.write(fig.getFigBuffer())\n",
    "\n",
    "    os.system(f'fig2dev -Lpng {figfile} {name}.png')\n",
    "    os.system(f'fig2dev -Lpdf {figfile} {name}.pdf')\n",
    "    \n",
    "    from IPython.display import display, Image, FileLink\n",
    "    if show:\n",
    "        png = f'{name}.png'\n",
    "        display(Image(png))\n",
    "        display(FileLink(png))\n",
    "\n"
   ]
  },
  {
   "cell_type": "code",
   "execution_count": 3,
   "metadata": {},
   "outputs": [],
   "source": [
    "def f0_node_and_time():\n",
    "    sg = Drawing(alpha=0, omega=10)\n",
    "\n",
    "    sg.addNode(\"u\")\n",
    "    sg.addNode(\"v\")\n",
    "    sg.addNode(\"w\")\n",
    "\n",
    "    '''\n",
    "\n",
    "    sg.addNode(\"w\")\n",
    "\n",
    "    sg.addLink(\"u\", \"v\", 1, 2)\n",
    "    sg.addLink(\"v\", \"w\", 2, 3)\n",
    "    '''\n",
    "\n",
    "    #sg.addPath(((2,\"u\",\"v\"), (2,\"v\",\"w\")), 2, 2, color=11, width=6)\n",
    "\n",
    "    sg.addTimeLine()\n",
    "    return sg"
   ]
  },
  {
   "cell_type": "code",
   "execution_count": 4,
   "metadata": {},
   "outputs": [
    {
     "name": "stdout",
     "output_type": "stream",
     "text": [
      "\n"
     ]
    },
    {
     "data": {
      "image/png": "[encoded data removed]",
      "text/plain": [
       "<IPython.core.display.Image object>"
      ]
     },
     "metadata": {},
     "output_type": "display_data"
    },
    {
     "data": {
      "text/html": [
       "<a href='f0_node_and_time.png' target='_blank'>f0_node_and_time.png</a><br>"
      ],
      "text/plain": [
       "/work/tiphaine.streamfig/examples/f0_node_and_time.png"
      ]
     },
     "metadata": {},
     "output_type": "display_data"
    }
   ],
   "source": [
    "fig = f0_node_and_time()\n",
    "print()\n",
    "#drawFig(fig.getFigStream(), name='monkey', show=True)\n",
    "drawFig(fig, name='f0_node_and_time', show=True)"
   ]
  },
  {
   "cell_type": "code",
   "execution_count": 5,
   "metadata": {},
   "outputs": [
    {
     "data": {
      "image/png": "[encoded data removed]",
      "text/plain": [
       "<IPython.core.display.Image object>"
      ]
     },
     "metadata": {},
     "output_type": "display_data"
    },
    {
     "data": {
      "text/html": [
       "<a href='f1_1_node_over_time.png' target='_blank'>f1_1_node_over_time.png</a><br>"
      ],
      "text/plain": [
       "/work/tiphaine.streamfig/examples/f1_1_node_over_time.png"
      ]
     },
     "metadata": {},
     "output_type": "display_data"
    }
   ],
   "source": [
    "def f1_1_node_over_time():\n",
    "    sg = Drawing(alpha=0, omega=10)\n",
    "\n",
    "    sg.addNode(\"u\", [(0,6)])\n",
    "    sg.addNode(\"v\", [(4,10)])\n",
    "    sg.addNode(\"w\", [(0,2), (4,6), (8,10)])\n",
    "\n",
    "    #sg.addPath(((2,\"u\",\"v\"), (2,\"v\",\"w\")), 2, 2, color=11, width=6)\n",
    "\n",
    "    sg.addTimeLine()\n",
    "    return sg\n",
    "fig = f1_1_node_over_time()\n",
    "drawFig(fig, name='f1_1_node_over_time', show=True)    "
   ]
  },
  {
   "cell_type": "code",
   "execution_count": 151,
   "metadata": {},
   "outputs": [
    {
     "data": {
      "image/png": "[encoded data removed]",
      "text/plain": [
       "<IPython.core.display.Image object>"
      ]
     },
     "metadata": {},
     "output_type": "display_data"
    },
    {
     "data": {
      "text/html": [
       "<a href='f1_1_node_weight_size.png' target='_blank'>f1_1_node_weight_size.png</a><br>"
      ],
      "text/plain": [
       "/work/tiphaine.streamfig/examples/f1_1_node_weight_size.png"
      ]
     },
     "metadata": {},
     "output_type": "display_data"
    }
   ],
   "source": [
    "def f1_1_node_weight_size():\n",
    "    sg = Drawing(alpha=0, omega=10)\n",
    "\n",
    "    sg.addNode(\"u\", [(0,6)])\n",
    "    sg.addNode(\"v\", [(4,10)])\n",
    "    sg.addNode(\"w\", [(0,2), (4,6), (8,10)])\n",
    "\n",
    "    for i in range(1, 10):\n",
    "        if i<7:\n",
    "            sg.addNodeValue('u', i, size = 2*i, glyph='rectangle')\n",
    "        if i>3:\n",
    "            sg.addNodeValue('v', i, size = 3*(10-i), glyph='circle')\n",
    "        if i<3:\n",
    "            sg.addNodeValue('w', i, size = i, glyph='cross')\n",
    "            #sg.addNodeValue('w', i, size = 4*(i+1), glyph='rectangle')\n",
    "\n",
    "        if i>3 and i<7:\n",
    "            #sg.addNodeValue('w', i, size = 10*(2-abs(5-i)), glyph='circle')\n",
    "            sg.addNodeValue('w', i, size = i, glyph='cross')\n",
    "\n",
    "        if i>7:\n",
    "            #sg.addNodeValue('w', i, size = 4*(11-i), glyph='rectangle')\n",
    "            sg.addNodeValue('w', i, size = i, glyph='cross')\n",
    "\n",
    "\n",
    "\n",
    "\n",
    "\n",
    "\n",
    "\n",
    "\n",
    "    sg.addTimeLine()\n",
    "    return sg\n",
    "fig = f1_1_node_weight_size()\n",
    "drawFig(fig, name='f1_1_node_weight_size', show=True)   "
   ]
  },
  {
   "cell_type": "code",
   "execution_count": 150,
   "metadata": {},
   "outputs": [
    {
     "data": {
      "image/png": "[encoded data removed]",
      "text/plain": [
       "<IPython.core.display.Image object>"
      ]
     },
     "metadata": {},
     "output_type": "display_data"
    },
    {
     "data": {
      "text/html": [
       "<a href='f1_2_node_weight_color.png' target='_blank'>f1_2_node_weight_color.png</a><br>"
      ],
      "text/plain": [
       "/work/tiphaine.streamfig/examples/f1_2_node_weight_color.png"
      ]
     },
     "metadata": {},
     "output_type": "display_data"
    }
   ],
   "source": [
    "def f1_2_node_weight_color():\n",
    "    sg = Drawing(alpha=0, omega=10)\n",
    "\n",
    "    red_list = ['#d73027','#f46d43','#fdae61','#fee090','#ffffbf','#e0f3f8','#abd9e9','#74add1','#4575b4']\n",
    "    brown_list = ['#ffffe5','#fff7bc','#fee391','#fec44f','#fe9929','#ec7014','#cc4c02','#993404','#662506']\n",
    "    color_list = ['#e41a1c','#377eb8','#4daf4a','#984ea3','#ff7f00','#ffff33','#a65628','#f781bf','#999999']\n",
    "\n",
    "    for i in range(9):\n",
    "       sg.addColor(\"red\"+str(i+1), red_list[-(i+1)])\n",
    "       sg.addColor(\"brown\"+str(i+1), brown_list[i])\n",
    "       sg.addColor(\"color\"+str(i+1), color_list[i])\n",
    "\n",
    "    sg.addNode(\"u\", [(0,10)])\n",
    "    sg.addNode(\"v\", [(0,10)])\n",
    "    sg.addNode(\"w\", [(0,10)])\n",
    "    \n",
    "    for i in range(1, 10):\n",
    "        sg.addNodeValue('u', i, size = 10, color=\"red\"+str(i) ,glyph='rectangle')\n",
    "        sg.addNodeValue('v', i, size = 15, color=\"brown\"+str(i), glyph='circle')\n",
    "        sg.addNodeValue('w', i, size = 7, color=\"color\"+str(i), glyph='cross')\n",
    "\n",
    "    sg.addTimeLine()\n",
    "    return sg\n",
    "fig = f1_2_node_weight_color()\n",
    "drawFig(fig, name='f1_2_node_weight_color', show=True)   "
   ]
  },
  {
   "cell_type": "code",
   "execution_count": 8,
   "metadata": {},
   "outputs": [
    {
     "data": {
      "image/png": "[encoded data removed]",
      "text/plain": [
       "<IPython.core.display.Image object>"
      ]
     },
     "metadata": {},
     "output_type": "display_data"
    },
    {
     "data": {
      "text/html": [
       "<a href='f1_3_node_weight_color_bar.png' target='_blank'>f1_3_node_weight_color_bar.png</a><br>"
      ],
      "text/plain": [
       "/work/tiphaine.streamfig/examples/f1_3_node_weight_color_bar.png"
      ]
     },
     "metadata": {},
     "output_type": "display_data"
    }
   ],
   "source": [
    "def f1_3_node_weight_color_bar():\n",
    "    sg = Drawing(alpha=0, omega=10)\n",
    "\n",
    "    red_list = ['#d73027','#f46d43','#fdae61','#fee090','#ffffbf','#e0f3f8','#abd9e9','#74add1','#4575b4']\n",
    "\n",
    "    for i in range(9):\n",
    "       sg.addColor(\"red\"+str(i+1), red_list[-(i+1)])\n",
    "\n",
    "    sg.addNode(\"u\", [(0,10)])\n",
    "    sg.addNode(\"v\", [(0,10)])\n",
    "    sg.addNode(\"w\", [(0,10)])\n",
    "    \n",
    "    for i in range(1, 10):\n",
    "        sg.addNodeValue('u', i, size = -6*(10-i), color=\"red\"+str(i), glyph='bar', bar_width=20)\n",
    "        sg.addNodeValue('v', i, size = 7*(i-5), color=\"red\"+str(i), glyph='bar', bar_width=30)\n",
    "        sg.addNodeValue('w', i, size = 6*(i), color=\"red\"+str(i), glyph='bar', bar_width=40)\n",
    "\n",
    "    sg.addTimeLine()\n",
    "    return sg\n",
    "fig = f1_3_node_weight_color_bar()\n",
    "drawFig(fig, name='f1_3_node_weight_color_bar', show=True)  "
   ]
  },
  {
   "cell_type": "code",
   "execution_count": 35,
   "metadata": {},
   "outputs": [
    {
     "data": {
      "image/png": "[encoded data removed]",
      "text/plain": [
       "<IPython.core.display.Image object>"
      ]
     },
     "metadata": {},
     "output_type": "display_data"
    },
    {
     "data": {
      "text/html": [
       "<a href='f1_4_node_global_shape.png' target='_blank'>f1_4_node_global_shape.png</a><br>"
      ],
      "text/plain": [
       "/work/tiphaine.streamfig/examples/f1_4_node_global_shape.png"
      ]
     },
     "metadata": {},
     "output_type": "display_data"
    }
   ],
   "source": [
    "def f1_4_node_global_shape():\n",
    "    sg = Drawing(alpha=0, omega=10)\n",
    "\n",
    "    red_list = ['#d73027','#f46d43','#fdae61','#fee090','#ffffbf','#e0f3f8','#abd9e9','#74add1','#4575b4']\n",
    "    color_list = ['#e41a1c','#377eb8','#4daf4a','#984ea3','#ff7f00','#ffff33','#a65628','#f781bf','#999999']\n",
    "\n",
    "    for i in range(9):\n",
    "       sg.addColor(\"color\"+str(i+1), color_list[i])\n",
    "       sg.addColor(\"red\"+str(i+1), red_list[-(i+1)])\n",
    "    \n",
    "    sg.addNode(\"a\", [(0,5)], color=\"color2\")\n",
    "    sg.addNode(\"b\", [(0,10)], color=\"color2\")\n",
    "    sg.addNode(\"u\", [(0,5)], color=\"color1\")\n",
    "    sg.addNode(\"v\", [(0,10)], color=\"color1\")\n",
    "\n",
    "    sg.addNodeValue('a', -1.5, size = 5, color=\"red\"+str(3), glyph='rectangle')\n",
    "    sg.addNodeValue('b', -1.5, size = 10, color=\"red\"+str(1), glyph='rectangle')\n",
    "    sg.addNodeValue('u', -1.5, size = 10, color=\"red\"+str(8), glyph='circle')\n",
    "    sg.addNodeValue('v', -1.5, size = 20, color=\"red\"+str(9), glyph='circle')\n",
    " \n",
    "    sg.addTimeLine()\n",
    "    return sg\n",
    "fig = f1_4_node_global_shape()\n",
    "drawFig(fig, name='f1_4_node_global_shape', show=True)  "
   ]
  },
  {
   "cell_type": "code",
   "execution_count": 33,
   "metadata": {},
   "outputs": [
    {
     "data": {
      "image/png": "[encoded data removed]",
      "text/plain": [
       "<IPython.core.display.Image object>"
      ]
     },
     "metadata": {},
     "output_type": "display_data"
    },
    {
     "data": {
      "text/html": [
       "<a href='f1_5_node_global_bar.png' target='_blank'>f1_5_node_global_bar.png</a><br>"
      ],
      "text/plain": [
       "/work/tiphaine.streamfig/examples/f1_5_node_global_bar.png"
      ]
     },
     "metadata": {},
     "output_type": "display_data"
    }
   ],
   "source": [
    " def f1_5_node_global_bar():\n",
    "    sg = Drawing(alpha=0, omega=12)\n",
    "    \n",
    "    color_list = ['#e41a1c','#377eb8','#4daf4a','#984ea3','#ff7f00','#ffff33','#a65628','#f781bf','#999999']\n",
    "\n",
    "    for i in range(9):\n",
    "       sg.addColor(\"color\"+str(i+1), color_list[i])\n",
    "\n",
    "    sg.addNode(\"u\", [(0,4)], color=\"color2\")\n",
    "    sg.addNode(\"v\", [(0,8)], color=\"color3\")\n",
    "    sg.addNode(\"w\", [(0,12)], color=\"color1\")\n",
    "\n",
    "    sg.addNodeValue('u', -1, size = 4*8, color=\"color2\", glyph='bar', bar_width=15)\n",
    "    sg.addNodeValue('v', -1, size = 8*8, color=\"color3\", glyph='bar', bar_width=15)\n",
    "    sg.addNodeValue('w', -1, size = 12*8, color=\"color1\", glyph='bar', bar_width=15)\n",
    "    \n",
    "    sg.addTimeLine(histogram=True, histogram_label='duration')\n",
    "    return sg\n",
    "fig = f1_5_node_global_bar()\n",
    "drawFig(fig, name='f1_5_node_global_bar', show=True)  "
   ]
  },
  {
   "cell_type": "code",
   "execution_count": 76,
   "metadata": {},
   "outputs": [
    {
     "data": {
      "image/png": "[encoded data removed]",
      "text/plain": [
       "<IPython.core.display.Image object>"
      ]
     },
     "metadata": {},
     "output_type": "display_data"
    },
    {
     "data": {
      "text/html": [
       "<a href='f2_1_link_over_time.png' target='_blank'>f2_1_link_over_time.png</a><br>"
      ],
      "text/plain": [
       "/work/tiphaine.streamfig/examples/f2_1_link_over_time.png"
      ]
     },
     "metadata": {},
     "output_type": "display_data"
    }
   ],
   "source": [
    "def f2_1_link_over_time():\n",
    "    sg = Drawing(alpha=0, omega=10)\n",
    "\n",
    "    sg.addNode(\"u\", [(1,9)])\n",
    "    sg.addNode(\"v\", [(0,3),(5,9)])\n",
    "    sg.addNode(\"w\", [(0,5),(7,9)])\n",
    "\n",
    "    sg.addLink(\"u\", \"v\", 1, 1, curving = 0)\n",
    "    sg.addLink(\"u\", \"w\", 1, 1, curving = 0.2)\n",
    "    sg.addLink(\"u\", \"v\", 2, 2, curving = 0)\n",
    "    sg.addLink(\"u\", \"v\", 6, 6, height = 0.5)\n",
    "    sg.addLink(\"w\", \"u\", 3.5, 3.5, curving=0)\n",
    "    sg.addLink(\"w\", \"u\", 4, 4, curving=0)\n",
    "    sg.addLink(\"v\", \"w\", 1, 1, height = 0.5, curving=0)\n",
    "    sg.addLink(\"v\", \"u\", 7, 7, height = 0.5)\n",
    "    sg.addLink(\"v\", \"w\", 7.5, 7.5, height = 0.5)\n",
    "    #sg.addLink(\"v\", \"w\", 8, 8, height = 0.5)\n",
    "    sg.addLink(\"u\", \"w\", 8.5, 8.5, height = 0.5)\n",
    "    sg.addLink(\"w\", \"w\", 2, 2.33, height = 0.5)\n",
    "\n",
    "\n",
    "    sg.addTimeLine()\n",
    "    return sg\n",
    "fig = f2_1_link_over_time()\n",
    "drawFig(fig, name='f2_1_link_over_time', show=True)"
   ]
  },
  {
   "cell_type": "code",
   "execution_count": 100,
   "metadata": {},
   "outputs": [
    {
     "data": {
      "image/png": "[encoded data removed]",
      "text/plain": [
       "<IPython.core.display.Image object>"
      ]
     },
     "metadata": {},
     "output_type": "display_data"
    },
    {
     "data": {
      "text/html": [
       "<a href='f2_2_link_over_time_duration.png' target='_blank'>f2_2_link_over_time_duration.png</a><br>"
      ],
      "text/plain": [
       "/work/tiphaine.streamfig/examples/f2_2_link_over_time_duration.png"
      ]
     },
     "metadata": {},
     "output_type": "display_data"
    }
   ],
   "source": [
    "def f2_2_link_over_time_duration():\n",
    "    sg = Drawing(alpha=0, omega=10)\n",
    "\n",
    "    sg.addNode(\"u\", [(1,9)])\n",
    "    sg.addNode(\"v\", [(0,3),(5,9)])\n",
    "    sg.addNode(\"w\", [(0,5),(7,9)])\n",
    "\n",
    "    #sg.addPath(((2,\"u\",\"v\"), (2,\"v\",\"w\")), 2, 2, color=11, width=6)\n",
    "    sg.addLink(\"u\", \"v\", 1, 1.5, curving = 0)\n",
    "    sg.addLink(\"u\", \"w\", 7, 8, curving = 0.3, height = 0.4)\n",
    "    sg.addLink(\"u\", \"v\", 2, 3, curving = 0)\n",
    "    sg.addLink(\"u\", \"v\", 6, 8, height = 0.5)\n",
    "    sg.addLink(\"w\", \"u\", 3, 5, curving=0.3, height=0.4)\n",
    "    sg.addLink(\"v\", \"w\", 1, 2.5, height = 0.5, curving=0)\n",
    "    sg.addLink(\"v\", \"w\", 7, 8, height = 0.5)\n",
    "    sg.addLink(\"u\", \"w\", 8.5, 9, height = 0.5)\n",
    "    sg.addLink(\"w\", \"w\", 4, 5, height = 0.5)\n",
    "\n",
    "\n",
    "    sg.addTimeLine()\n",
    "    return sg\n",
    "fig = f2_2_link_over_time_duration()\n",
    "drawFig(fig, name='f2_2_link_over_time_duration', show=True)"
   ]
  },
  {
   "cell_type": "code",
   "execution_count": 234,
   "metadata": {},
   "outputs": [
    {
     "data": {
      "image/png": "[encoded data removed]",
      "text/plain": [
       "<IPython.core.display.Image object>"
      ]
     },
     "metadata": {},
     "output_type": "display_data"
    },
    {
     "data": {
      "text/html": [
       "<a href='f3_1_link_with_weights.png' target='_blank'>f3_1_link_with_weights.png</a><br>"
      ],
      "text/plain": [
       "/work/tiphaine.streamfig/examples/f3_1_link_with_weights.png"
      ]
     },
     "metadata": {},
     "output_type": "display_data"
    }
   ],
   "source": [
    "def f3_1_link_with_weights():\n",
    "    sg = Drawing(alpha=0, omega=10)\n",
    "\n",
    "    brown_list = ['#ffffe5','#fff7bc','#fee391','#fec44f','#fe9929','#ec7014','#cc4c02','#993404','#662506']\n",
    "    for i in range(9):\n",
    "       sg.addColor(\"brown\"+str(i+1), brown_list[(i)])\n",
    "    \n",
    "    sg.addNode(\"u\", [(0,10)])\n",
    "    sg.addNode(\"v\", [(0,10)])\n",
    "    sg.addNode(\"w\", [(0,10)])\n",
    "\n",
    "    #sg.addPath(((2,\"u\",\"v\"), (2,\"v\",\"w\")), 2, 2, color=11, width=6)\n",
    "    sg.addLink(\"u\", \"v\", 1, 1.5, curving = 0, link_width=1)\n",
    "    sg.addLink(\"u\", \"v\", 2, 3, curving = 0, link_width=3)\n",
    "    sg.addLink(\"u\", \"v\", 4, 6, curving = 0, link_width=5)\n",
    "    sg.addLink(\"u\", \"v\", 7, 10, curving = 0, link_width=7)\n",
    "\n",
    "    sg.addLink(\"w\", \"v\", 0.5, 1, curving = 0, link_width=3, color=\"brown3\")\n",
    "    sg.addLink(\"w\", \"v\", 1.5, 2.5, curving = 0, link_width=3, color=\"brown5\")\n",
    "    sg.addLink(\"w\", \"v\", 3.5, 5.5, curving = 0, link_width=3, color=\"brown7\")\n",
    "    sg.addLink(\"w\", \"v\", 6.5, 9.5, curving = 0, link_width=3, color=\"brown9\")\n",
    "\n",
    "\n",
    "\n",
    "\n",
    "\n",
    "    sg.addTimeLine()\n",
    "    return sg\n",
    "fig = f3_1_link_with_weights()\n",
    "drawFig(fig, name='f3_1_link_with_weights', show=True)"
   ]
  },
  {
   "cell_type": "code",
   "execution_count": 248,
   "metadata": {},
   "outputs": [
    {
     "data": {
      "image/png": "[encoded data removed]",
      "text/plain": [
       "<IPython.core.display.Image object>"
      ]
     },
     "metadata": {},
     "output_type": "display_data"
    },
    {
     "data": {
      "text/html": [
       "<a href='f3_2_link_groups.png' target='_blank'>f3_2_link_groups.png</a><br>"
      ],
      "text/plain": [
       "/work/tiphaine.streamfig/examples/f3_2_link_groups.png"
      ]
     },
     "metadata": {},
     "output_type": "display_data"
    }
   ],
   "source": [
    "def f3_2_link_groups():\n",
    "    sg = Drawing(alpha=0, omega=10)\n",
    "\n",
    "    color_list = ['#e41a1c','#377eb8','#4daf4a','#984ea3','#ff7f00','#ffff33','#a65628','#f781bf','#999999']\n",
    "    for i in range(9):\n",
    "       sg.addColor(\"color\"+str(i+1), color_list[i])\n",
    "    \n",
    "    sg.addNode(\"u\", [(0,10)])\n",
    "    sg.addNode(\"v\", [(0,10)])\n",
    "    sg.addNode(\"w\", [(0,10)])\n",
    "\n",
    "    #sg.addPath(((2,\"u\",\"v\"), (2,\"v\",\"w\")), 2, 2, color=11, width=6)\n",
    "    sg.addLink(\"u\", \"v\", 0.5, 3.5, curving = 0, color='color1')\n",
    "    sg.addLink(\"v\", \"w\", 2, 3, curving = 0, color='color1')\n",
    "    sg.addLink(\"u\", \"w\", 1, 2.5, curving = 0, height=0.4, color='color1')\n",
    "\n",
    "    sg.addLink(\"u\", \"v\", 6, 6, curving = 0, color='color2')\n",
    "    sg.addLink(\"v\", \"w\", 5, 6, curving = 0, color='color2')\n",
    "    sg.addLink(\"u\", \"w\", 4, 6.5, curving = 0, height=0.3, color='color2')\n",
    "\n",
    "    sg.addLink(\"u\", \"v\", 7.5, 9, curving = 0, color='color3')\n",
    "    sg.addLink(\"v\", \"w\", 7, 8, curving = 0, color='color3')\n",
    "    sg.addLink(\"u\", \"w\", 8.5, 10, curving = 0, height=0.4, color='color3')\n",
    "\n",
    "    \n",
    "\n",
    "\n",
    "\n",
    "\n",
    "\n",
    "    sg.addTimeLine()\n",
    "    return sg\n",
    "fig = f3_2_link_groups()\n",
    "drawFig(fig, name='f3_2_link_groups', show=True)"
   ]
  },
  {
   "cell_type": "code",
   "execution_count": 144,
   "metadata": {},
   "outputs": [
    {
     "data": {
      "image/png": "[encoded data removed]",
      "text/plain": [
       "<IPython.core.display.Image object>"
      ]
     },
     "metadata": {},
     "output_type": "display_data"
    },
    {
     "data": {
      "text/html": [
       "<a href='all_node_weight.png' target='_blank'>all_node_weight.png</a><br>"
      ],
      "text/plain": [
       "/work/tiphaine.streamfig/examples/all_node_weight.png"
      ]
     },
     "metadata": {},
     "output_type": "display_data"
    }
   ],
   "source": [
    "def all_node_weight():\n",
    "    sg = Drawing(alpha=0, omega=10)\n",
    "\n",
    "    sg.addColor(\"red\", \"#FF8080\")\n",
    "    red_list = ['#d73027','#f46d43','#fdae61','#fee090','#ffffbf','#e0f3f8','#abd9e9','#74add1','#4575b4']\n",
    "    brown_list = ['#ffffe5','#fff7bc','#fee391','#fec44f','#fe9929','#ec7014','#cc4c02','#993404','#662506']\n",
    "    color_list = ['#e41a1c','#377eb8','#4daf4a','#984ea3','#ff7f00','#ffff33','#a65628','#f781bf','#999999']\n",
    "\n",
    "    for i in range(9):\n",
    "       sg.addColor(\"red\"+str(i+1), red_list[-(i+1)])\n",
    "       sg.addColor(\"brown\"+str(i+1), brown_list[i])\n",
    "       sg.addColor(\"color\"+str(i+1), color_list[i])\n",
    "\n",
    "    sg.addNode(\"s1\", [(1,9)])\n",
    "    sg.addNode(\"s2\", [(1,9)])\n",
    "    sg.addNode(\"c1\", [(1,9)])\n",
    "    sg.addNode(\"c2\", [(1,9)])\n",
    "    sg.addNode(\"c3\", [(1,9)])\n",
    "    sg.addNode(\"z1\", [(1,9)])\n",
    "    sg.addNode(\"z2\", [(1,9)])\n",
    "    sg.addNode(\"z3\", [(1,9)])\n",
    "\n",
    "\n",
    "\n",
    "    #sg.stdout_print = True\n",
    "    sg.addNodeValue('s1', -1.5, size = 5, color=\"brown\"+str(4), glyph='rectangle')\n",
    "    sg.addNodeValue('s2', -1.5, size = 10, color=\"brown\"+str(5), glyph='circle')\n",
    "    sg.addNodeValue('c1', -1.5, size = 10, color=\"brown\"+str(6), glyph='rectangle')\n",
    "    sg.addNodeValue('c2', -1.5, size = 20, color=\"brown\"+str(7), glyph='circle')\n",
    "    sg.addNodeValue('c3', -1.5, size = 15, color=\"brown\"+str(8), glyph='rectangle')\n",
    "    sg.addNodeValue('z1', -1, size = 20, color=\"red\"+str(3), glyph='bar', bar_width=15)\n",
    "    sg.addNodeValue('z2', -1, size = 50, color=\"red\"+str(2), glyph='bar', bar_width=15)\n",
    "    sg.addNodeValue('z3', -1, size = 100, color=\"red\"+str(1), glyph='bar', bar_width=15)\n",
    "\n",
    "\n",
    "    #sg.stdout_print = False\n",
    "\n",
    "    for i in range(1, 10):\n",
    "        sg.addNodeValue('s1', i, size = i, glyph='rectangle')\n",
    "        sg.addNodeValue('s2', i, size = 2*i, glyph='circle')\n",
    "        sg.addNodeValue('c1', i, size = 10, color=\"red\"+str(i) ,glyph='rectangle')\n",
    "        sg.addNodeValue('c2', i, size = 20, color=\"brown\"+str(i), glyph='circle')\n",
    "        if i%2 == 0:\n",
    "            sg.addNodeValue('c3', i, size = 9, color=\"color\"+str(i), glyph='cross')\n",
    "        else:\n",
    "            sg.addNodeValue('c3', i, size = 9, color=\"color\"+str(i), glyph='cross')\n",
    "        sg.addNodeValue('z1', i, size = -6*(10-i), color=\"red\"+str(i), glyph='bar', bar_width=20)\n",
    "        sg.addNodeValue('z2', i, size = 7*(i-5), color=\"red\"+str(i), glyph='bar', bar_width=30)\n",
    "        sg.addNodeValue('z3', i, size = 6*(i), color=\"red\"+str(i), glyph='bar', bar_width=40)\n",
    "   \n",
    "    sg.addTimeLine(histogram=True, histogram_label='value')\n",
    "    return sg\n",
    "\n",
    "fig = all_node_weight()\n",
    "drawFig(fig, name='all_node_weight', show=True) "
   ]
  },
  {
   "cell_type": "code",
   "execution_count": 233,
   "metadata": {},
   "outputs": [
    {
     "data": {
      "image/png": "[encoded data removed]",
      "text/plain": [
       "<IPython.core.display.Image object>"
      ]
     },
     "metadata": {},
     "output_type": "display_data"
    },
    {
     "data": {
      "text/html": [
       "<a href='f8_plot.png' target='_blank'>f8_plot.png</a><br>"
      ],
      "text/plain": [
       "/work/tiphaine.streamfig/examples/f8_plot.png"
      ]
     },
     "metadata": {},
     "output_type": "display_data"
    }
   ],
   "source": [
    "def f8_plot():\n",
    "    sg = Drawing(omega=21)\n",
    "    \n",
    "    color_list = ['#e41a1c','#377eb8','#4daf4a','#984ea3','#ff7f00','#ffff33','#a65628','#f781bf','#999999']\n",
    "\n",
    "    for i in range(9):\n",
    "       sg.addColor(\"color\"+str(i+1), color_list[i])\n",
    "\n",
    "    sg.addNode(\"u\", [(0,20)])\n",
    "    sg.addNode(\"v\", [(0,11),(13,21)])\n",
    "    sg.addNode(\"w\", [(1,19)])\n",
    "\n",
    "    sg.addLink(\"u\", \"v\", 0, 3, color='color1')\n",
    "    sg.addLink(\"u\", \"v\", 4, 7, color='color1')\n",
    "    sg.addLink(\"u\", \"v\", 8, 11, color='color1')\n",
    "    sg.addLink(\"u\", \"v\", 13, 16, color='color1')\n",
    "    sg.addLink(\"u\", \"v\", 17, 20, color='color1')\n",
    "\n",
    "    sg.addLink(\"v\", \"w\", 1, 5, color='color2')\n",
    "    sg.addLink(\"w\", \"v\", 7, 11, color='color2')\n",
    "    sg.addLink(\"w\", \"v\", 13, 16, color='color2')\n",
    "\n",
    "    sg.addLink(\"u\", \"w\", 2, 8, curving=0.5, height=0.6, color='color3')\n",
    "    sg.addLink(\"w\", \"u\", 11, 19, curving=0.5, height=0.6, color='color3')\n",
    "\n",
    "    sg.addNodeValue('u', -1, size = 20*3, color=\"color9\", glyph='bar', bar_width=10)\n",
    "    sg.addNodeValue('v', -1, size = 19*3, color=\"color9\", glyph='bar', bar_width=10)\n",
    "    sg.addNodeValue('w', -1, size = 18*3, color=\"color9\", glyph='bar', bar_width=10)\n",
    "\n",
    "\n",
    "\n",
    "    points =  [(0,1),  (1,2),  (2,3),  (3,3),  (4,3),  (5,3),  (6,2),  (7,3),  (8,3),  (9,2),  (10,2)]\n",
    "    points += [(0.5,1), (1.5,2), (2.5,3), (3.5,2), (4.5,3), (5.5,2), (6.5,2), (7.5,2), (8.5,2), (9.5,2), (10.5,2)]\n",
    "    points += [(10,2), (11,3), (12,1), (13,3), (14,3), (15,3), (16,3), (17,2), (18,2), (19,2), (20,1), (21,0)]\n",
    "    points += [(10.5,2), (11.5,1), (12.5,1), (13.5,3), (14.5,3), (15.5,3), (16.5,1), (17.5,2), (18.5,2), (19.5,1), (20.0,1)]\n",
    "\n",
    "\n",
    "    \n",
    "    sg.addMeasures(points, invert_y_axis = True, title = ' #links', color = 0, height=2)\n",
    "    #sg.addMeasures(points2, invert_y_axis = True, title = ' #links', color = 0)\n",
    "\n",
    "    sg.addTimeLine(ticks=2, histogram=True, histogram_label='duration')\n",
    "\n",
    "\n",
    "    return sg\n",
    "    \n",
    "\n",
    "fig = f8_plot()\n",
    "drawFig(fig, name='f8_plot', show=True) "
   ]
  },
  {
   "cell_type": "code",
   "execution_count": 38,
   "metadata": {},
   "outputs": [
    {
     "data": {
      "image/png": "[encoded data removed]",
      "text/plain": [
       "<IPython.core.display.Image object>"
      ]
     },
     "metadata": {},
     "output_type": "display_data"
    },
    {
     "data": {
      "text/html": [
       "<a href='f5_node_groups.png' target='_blank'>f5_node_groups.png</a><br>"
      ],
      "text/plain": [
       "/work/tiphaine.streamfig/examples/f5_node_groups.png"
      ]
     },
     "metadata": {},
     "output_type": "display_data"
    }
   ],
   "source": [
    "def f5_node_groups():\n",
    "\n",
    "    s = Drawing()\n",
    "\n",
    "    color_list = ['#e41a1c','#377eb8','#4daf4a','#984ea3','#ff7f00','#ffff33','#a65628','#f781bf','#999999']\n",
    "    for i in range(9):\n",
    "       sg.addColor(\"color\"+str(i+1), color_list[i])\n",
    "\n",
    "    s.addNode(\"u\")\n",
    "    s.addNode(\"v\")\n",
    "    s.addNode(\"w\")\n",
    "\n",
    "    s.addNodeCluster(\"u\",[(0,1),(6,10)], color=\"color2\", width=100, depth=55)\n",
    "    s.addNodeCluster(\"v\",[(0,3)], color=\"color2\", width=100, depth=55)\n",
    "    s.addNodeCluster(\"w\",[(0,2),(8,10)], color=\"color2\", width=200, depth=55)\n",
    "\n",
    "    s.addNodeCluster(\"u\",[(1,4),(5,6)], color=\"color3\", width=100, depth=55)\n",
    "    s.addNodeCluster(\"v\",[(3,4),(5,7),(9,10)], color=\"color3\", width=100, depth=55)\n",
    "    s.addNodeCluster(\"w\",[(1,4),(5,7)], color=\"color3\", width=100, depth=51)\n",
    "\n",
    "    s.addNodeCluster(\"u\",[(4,5)], color=\"color1\", width=100, depth=55)\n",
    "    s.addNodeCluster(\"v\",[(4,5),(7,9)], color=\"color1\", width=100, depth=55)\n",
    "    s.addNodeCluster(\"w\",[(3,6),(7,9)], color=\"color1\", width=150, depth=52)\n",
    "\n",
    "    s.addTimeLine(ticks=2)\n",
    "    return s\n",
    "\n",
    "fig = f5_node_groups()\n",
    "drawFig(fig, name='f5_node_groups', show=True) \n",
    "\n"
   ]
  },
  {
   "cell_type": "code",
   "execution_count": 168,
   "metadata": {},
   "outputs": [
    {
     "data": {
      "image/png": "[encoded data removed]",
      "text/plain": [
       "<IPython.core.display.Image object>"
      ]
     },
     "metadata": {},
     "output_type": "display_data"
    },
    {
     "data": {
      "text/html": [
       "<a href='f6_path.png' target='_blank'>f6_path.png</a><br>"
      ],
      "text/plain": [
       "/work/tiphaine.streamfig/examples/f6_path.png"
      ]
     },
     "metadata": {},
     "output_type": "display_data"
    }
   ],
   "source": [
    "def f6_path():\n",
    "    s = Drawing()\n",
    "    s.addColor(\"red\", \"#FF0000\")\n",
    "\n",
    "    s.addNode(\"u\", [(3,7)])\n",
    "    s.addNode(\"v\", [(1,4),(6,9)])\n",
    "    s.addNode(\"w\", [(0,3),(4,6),(7,10)])\n",
    "\n",
    "    s.addLink(\"u\", \"v\", 3.5, 3.5)\n",
    "    s.addLink(\"u\", \"v\", 6.5, 6.5)\n",
    "    s.addLink(\"v\", \"w\", 1.5, 1.5)\n",
    "    s.addLink(\"v\", \"w\", 8.5, 8.5)\n",
    "    s.addLink(\"u\", \"w\", 5, 5)\n",
    "\n",
    "\n",
    "    s.addTimeNodeMark(0.5,\"w\",color=\"red\",width=4)\n",
    "    s.addTimeNodeMark(9.5,\"w\",color=\"red\",width=4)\n",
    "\n",
    "\n",
    "    s.addPath(((0.5,\"w\",\"w\"), (1.5,\"w\",\"v\"), (3.5, \"v\", \"v\"), (3.5, \"v\", \"u\"), (6.5, \"u\", \"v\"), (6.5, \"u\", \"v\"),(8.5, \"v\", \"w\")), 1, 9.5, color=11, width=6)\n",
    "\n",
    "    s.addTimeLine(ticks=2)\n",
    "    return s\n",
    "\n",
    "fig = f6_path()\n",
    "drawFig(fig, name='f6_path', show=True) \n",
    "\n"
   ]
  },
  {
   "cell_type": "code",
   "execution_count": 182,
   "metadata": {},
   "outputs": [
    {
     "data": {
      "image/png": "[encoded data removed]",
      "text/plain": [
       "<IPython.core.display.Image object>"
      ]
     },
     "metadata": {},
     "output_type": "display_data"
    },
    {
     "data": {
      "text/html": [
       "<a href='f7_path_duration.png' target='_blank'>f7_path_duration.png</a><br>"
      ],
      "text/plain": [
       "/work/tiphaine.streamfig/examples/f7_path_duration.png"
      ]
     },
     "metadata": {},
     "output_type": "display_data"
    }
   ],
   "source": [
    "def f7_path_duration():\n",
    "    s = Drawing()\n",
    "    s.addColor(\"red\", \"#FF0000\")\n",
    "\n",
    "    s.addNode(\"u\", [(3,7)])\n",
    "    s.addNode(\"v\", [(1,4),(6,9)])\n",
    "    s.addNode(\"w\", [(0,3),(4,6),(7,10)])\n",
    "\n",
    "    s.addLink(\"u\", \"v\", 3, 4)\n",
    "    s.addLink(\"u\", \"v\", 6, 7)\n",
    "    s.addLink(\"v\", \"w\", 1, 2)\n",
    "    s.addLink(\"v\", \"w\", 8, 9)\n",
    "    s.addLink(\"u\", \"w\", 5, 5)\n",
    "\n",
    "\n",
    "    s.addTimeNodeMark(0.5,\"w\",color=\"red\",width=4)\n",
    "    s.addTimeNodeMark(9.5,\"w\",color=\"red\",width=4)\n",
    "\n",
    "\n",
    "    s.addPath(((0.5,\"w\",\"w\"), (1,\"w\",\"v\"), (3, \"v\", \"u\"), (6, \"u\", \"v\"), (8, \"v\", \"w\")), 1, 9.5, color=11, width=6)\n",
    "    s.addRectangle(\"v\",\"w\",1,2,color=11)\n",
    "    s.addRectangle(\"v\",\"w\",8,9,color=11)\n",
    "    s.addRectangle(\"u\",\"v\",3,4,color=11)\n",
    "    s.addRectangle(\"u\",\"v\",6,7,color=11)\n",
    "\n",
    "\n",
    "    s.addTimeLine(ticks=2)\n",
    "    return s\n",
    "\n",
    "fig = f7_path_duration()\n",
    "drawFig(fig, name='f7_path_duration', show=True) "
   ]
  },
  {
   "cell_type": "code",
   "execution_count": null,
   "metadata": {},
   "outputs": [],
   "source": []
  }
 ],
 "metadata": {
  "kernelspec": {
   "display_name": "Python 3",
   "language": "python",
   "name": "python3"
  },
  "language_info": {
   "codemirror_mode": {
    "name": "ipython",
    "version": 3
   },
   "file_extension": ".py",
   "mimetype": "text/x-python",
   "name": "python",
   "nbconvert_exporter": "python",
   "pygments_lexer": "ipython3",
   "version": "3.7.6"
  }
 },
 "nbformat": 4,
 "nbformat_minor": 4
}
